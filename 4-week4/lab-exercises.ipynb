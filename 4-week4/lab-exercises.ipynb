{
 "cells": [
  {
   "cell_type": "markdown",
   "metadata": {},
   "source": [
    "The following exercises use 2019 flight statistics from the United States Department of Transportation’s Bureau of Transportation Statistics (available [here](https://www.transtats.bts.gov/DL_SelectFields.asp?gnoyr_VQ=FMF&QO_fu146_anzr=Nv4%20Pn44vr45) and in this repository as `data/T100_MARKET_ALL_CARRIER.zip`). Each row contains information about a specific route for a given carrier in a given month (e.g., JFK &rarr; LAX on Delta Airlines in January). There are 321,409 rows and 41 columns. Note that you don't need to unzip the file to read it in with `pd.read_csv()`.\n",
    "\n",
    "This continues last week's exercises."
   ]
  },
  {
   "cell_type": "markdown",
   "metadata": {},
   "source": [
    "#### __Exercise 8__:\n",
    "\n",
    "Find the top 5 carriers for median route distance (i.e., for all origin-destination pairs that each carrier has, find the median distance after removing duplicates)."
   ]
  },
  {
   "cell_type": "code",
   "execution_count": 4,
   "metadata": {},
   "outputs": [],
   "source": [
    "\n",
    "import pandas as pd\n",
    "\n",
    "\n",
    "df = pd.read_csv('data/T100_MARKET_ALL_CARRIER.zip')"
   ]
  },
  {
   "cell_type": "code",
   "execution_count": 5,
   "metadata": {},
   "outputs": [
    {
     "name": "stdout",
     "output_type": "stream",
     "text": [
      "Top 5 Carriers by Median Route Distance:\n",
      "    UNIQUE_CARRIER  DISTANCE\n",
      "268             SQ    8068.0\n",
      "123             CX    8020.0\n",
      "41             2KQ    7855.5\n",
      "249             QF    7853.0\n",
      "93              AI    7707.0\n"
     ]
    }
   ],
   "source": [
    "median_distance = (\n",
    "    df.groupby([\"UNIQUE_CARRIER\", \"ORIGIN\", \"DEST\"])[\"DISTANCE\"].median().reset_index()\n",
    ")\n",
    "carrier_median_distance = (\n",
    "    median_distance.groupby(\"UNIQUE_CARRIER\")[\"DISTANCE\"].median().reset_index()\n",
    ")\n",
    "top_5_carriers_distance = carrier_median_distance.sort_values(by=\"DISTANCE\", ascending=False).head(5)\n",
    "print(\"Top 5 Carriers by Median Route Distance:\")\n",
    "print(top_5_carriers_distance)"
   ]
  },
  {
   "cell_type": "markdown",
   "metadata": {},
   "source": [
    "#### __Exercise 9:__ \n",
    "Find the total cargo transported (mail + freight) and mean distance traveled for the 10 carriers that transported the most cargo."
   ]
  },
  {
   "cell_type": "code",
   "execution_count": 6,
   "metadata": {},
   "outputs": [
    {
     "name": "stdout",
     "output_type": "stream",
     "text": [
      "\n",
      "Top 10 Cargo Carriers:\n",
      "    UNIQUE_CARRIER   TOTAL_CARGO  MEAN_DISTANCE\n",
      "147             FX  1.270966e+10    1121.887981\n",
      "70              5X  9.173867e+09    1030.812650\n",
      "71              5Y  3.356847e+09    1900.987202\n",
      "282             UA  1.577892e+09    1810.656058\n",
      "86              AA  1.353074e+09    1583.185048\n",
      "181            KAQ  1.272180e+09    2519.580343\n",
      "241             PO  1.199386e+09    3111.794118\n",
      "130             DL  1.129524e+09    1612.688752\n",
      "117             CI  8.370799e+08    5828.277778\n",
      "123             CX  7.741777e+08    7498.685315\n"
     ]
    }
   ],
   "source": [
    "df[\"TOTAL_CARGO\"] = df[\"MAIL\"] + df[\"FREIGHT\"]\n",
    "cargo_stats = (\n",
    "    df.groupby(\"UNIQUE_CARRIER\")\n",
    "    .agg(TOTAL_CARGO=(\"TOTAL_CARGO\", \"sum\"), MEAN_DISTANCE=(\"DISTANCE\", \"mean\"))\n",
    "    .reset_index()\n",
    ")\n",
    "top_10_cargo_carriers = cargo_stats.sort_values(by=\"TOTAL_CARGO\", ascending=False).head(10)\n",
    "print(\"\\nTop 10 Cargo Carriers:\")\n",
    "print(top_10_cargo_carriers)\n"
   ]
  },
  {
   "cell_type": "markdown",
   "metadata": {},
   "source": [
    "#### __Exercise 10__:\n",
    "\n",
    "Which 10 carriers flew the most passengers out of the United States to another country?"
   ]
  },
  {
   "cell_type": "code",
   "execution_count": 7,
   "metadata": {},
   "outputs": [
    {
     "name": "stdout",
     "output_type": "stream",
     "text": [
      "\n",
      "Top 10 Carriers Flying Passengers Internationally:\n",
      "    UNIQUE_CARRIER  PASSENGERS\n",
      "67              AA  14867653.0\n",
      "243             UA  14427923.0\n",
      "109             DL  13054230.0\n",
      "84              B6   4522492.0\n",
      "85              BA   3758945.0\n",
      "168             LH   3123611.0\n",
      "260             WS   2626600.0\n",
      "70              AC   2540855.0\n",
      "259             WN   2146960.0\n",
      "253             VS   2074735.0\n"
     ]
    }
   ],
   "source": [
    "international_flights = df[df[\"DEST_COUNTRY\"] != \"US\"]\n",
    "passenger_counts = (\n",
    "    international_flights.groupby(\"UNIQUE_CARRIER\")[\"PASSENGERS\"].sum().reset_index()\n",
    ")\n",
    "top_10_passenger_carriers = passenger_counts.sort_values(by=\"PASSENGERS\", ascending=False).head(10)\n",
    "print(\"\\nTop 10 Carriers Flying Passengers Internationally:\")\n",
    "print(top_10_passenger_carriers)"
   ]
  }
 ],
 "metadata": {
  "kernelspec": {
   "display_name": "Python 3",
   "language": "python",
   "name": "python3"
  },
  "language_info": {
   "codemirror_mode": {
    "name": "ipython",
    "version": 3
   },
   "file_extension": ".py",
   "mimetype": "text/x-python",
   "name": "python",
   "nbconvert_exporter": "python",
   "pygments_lexer": "ipython3",
   "version": "3.12.1"
  }
 },
 "nbformat": 4,
 "nbformat_minor": 2
}
